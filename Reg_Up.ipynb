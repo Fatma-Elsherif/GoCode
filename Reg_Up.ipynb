{
 "cells": [
  {
   "cell_type": "code",
   "execution_count": 47,
   "metadata": {},
   "outputs": [
    {
     "data": {
      "text/html": [
       "<div>\n",
       "<style scoped>\n",
       "    .dataframe tbody tr th:only-of-type {\n",
       "        vertical-align: middle;\n",
       "    }\n",
       "\n",
       "    .dataframe tbody tr th {\n",
       "        vertical-align: top;\n",
       "    }\n",
       "\n",
       "    .dataframe thead th {\n",
       "        text-align: right;\n",
       "    }\n",
       "</style>\n",
       "<table border=\"1\" class=\"dataframe\">\n",
       "  <thead>\n",
       "    <tr style=\"text-align: right;\">\n",
       "      <th></th>\n",
       "      <th>PassengerId</th>\n",
       "      <th>Survived</th>\n",
       "      <th>Pclass</th>\n",
       "      <th>Name</th>\n",
       "      <th>Sex</th>\n",
       "      <th>Age</th>\n",
       "      <th>SibSp</th>\n",
       "      <th>Parch</th>\n",
       "      <th>Fare</th>\n",
       "      <th>Cabin</th>\n",
       "      <th>Embarked</th>\n",
       "    </tr>\n",
       "  </thead>\n",
       "  <tbody>\n",
       "    <tr>\n",
       "      <th>0</th>\n",
       "      <td>343</td>\n",
       "      <td>No</td>\n",
       "      <td>2</td>\n",
       "      <td>Mr. Erik Gustaf</td>\n",
       "      <td>male</td>\n",
       "      <td>28.0</td>\n",
       "      <td>0</td>\n",
       "      <td>0</td>\n",
       "      <td>13.0000</td>\n",
       "      <td>NaN</td>\n",
       "      <td>S</td>\n",
       "    </tr>\n",
       "    <tr>\n",
       "      <th>1</th>\n",
       "      <td>76</td>\n",
       "      <td>No</td>\n",
       "      <td>3</td>\n",
       "      <td>Mr. Sigurd Hansen</td>\n",
       "      <td>male</td>\n",
       "      <td>25.0</td>\n",
       "      <td>0</td>\n",
       "      <td>0</td>\n",
       "      <td>7.6500</td>\n",
       "      <td>F G73</td>\n",
       "      <td>S</td>\n",
       "    </tr>\n",
       "    <tr>\n",
       "      <th>2</th>\n",
       "      <td>641</td>\n",
       "      <td>No</td>\n",
       "      <td>3</td>\n",
       "      <td>Mr. Hans Peder</td>\n",
       "      <td>male</td>\n",
       "      <td>20.0</td>\n",
       "      <td>0</td>\n",
       "      <td>0</td>\n",
       "      <td>7.8542</td>\n",
       "      <td>NaN</td>\n",
       "      <td>S</td>\n",
       "    </tr>\n",
       "    <tr>\n",
       "      <th>3</th>\n",
       "      <td>568</td>\n",
       "      <td>No</td>\n",
       "      <td>3</td>\n",
       "      <td>Mrs. Nils (Alma Cornelia Berglund)</td>\n",
       "      <td>female</td>\n",
       "      <td>29.0</td>\n",
       "      <td>0</td>\n",
       "      <td>4</td>\n",
       "      <td>21.0750</td>\n",
       "      <td>NaN</td>\n",
       "      <td>S</td>\n",
       "    </tr>\n",
       "    <tr>\n",
       "      <th>4</th>\n",
       "      <td>672</td>\n",
       "      <td>No</td>\n",
       "      <td>1</td>\n",
       "      <td>Mr. Thornton</td>\n",
       "      <td>male</td>\n",
       "      <td>31.0</td>\n",
       "      <td>1</td>\n",
       "      <td>0</td>\n",
       "      <td>52.0000</td>\n",
       "      <td>B71</td>\n",
       "      <td>S</td>\n",
       "    </tr>\n",
       "  </tbody>\n",
       "</table>\n",
       "</div>"
      ],
      "text/plain": [
       "   PassengerId Survived  Pclass                                 Name     Sex  \\\n",
       "0          343       No       2                      Mr. Erik Gustaf    male   \n",
       "1           76       No       3                    Mr. Sigurd Hansen    male   \n",
       "2          641       No       3                       Mr. Hans Peder    male   \n",
       "3          568       No       3   Mrs. Nils (Alma Cornelia Berglund)  female   \n",
       "4          672       No       1                         Mr. Thornton    male   \n",
       "\n",
       "    Age  SibSp  Parch     Fare  Cabin Embarked  \n",
       "0  28.0      0      0  13.0000    NaN        S  \n",
       "1  25.0      0      0   7.6500  F G73        S  \n",
       "2  20.0      0      0   7.8542    NaN        S  \n",
       "3  29.0      0      4  21.0750    NaN        S  \n",
       "4  31.0      1      0  52.0000    B71        S  "
      ]
     },
     "execution_count": 47,
     "metadata": {},
     "output_type": "execute_result"
    }
   ],
   "source": [
    "import seaborn as sns\n",
    "%matplotlib inline\n",
    "import pandas as bb\n",
    "import warnings\n",
    "warnings.filterwarnings(\"ignore\")\n",
    "\n",
    "######## importing the dataset using Pandas and showing head and info\n",
    "db=bb.read_csv(r'C:\\ya1\\a1\\titanic-passengers.csv')\n",
    "db.dropna()\n",
    "db.head()"
   ]
  },
  {
   "cell_type": "code",
   "execution_count": 48,
   "metadata": {},
   "outputs": [],
   "source": [
    "db['Survived'] = db['Survived'].str.replace('Yes', '1')\n",
    "db['Survived'] = db['Survived'].str.replace('No', '0')\n",
    "db['Survived']=db['Survived'].astype(str).astype(int)"
   ]
  },
  {
   "cell_type": "code",
   "execution_count": 49,
   "metadata": {},
   "outputs": [
    {
     "data": {
      "text/plain": [
       "array([0, 1])"
      ]
     },
     "execution_count": 49,
     "metadata": {},
     "output_type": "execute_result"
    }
   ],
   "source": [
    "db['Sex'] = db['Sex'].str.replace('female', '1')\n",
    "db['Sex'] = db['Sex'].str.replace('male', '0')\n",
    "db['Sex']=db['Sex'].astype(str).astype(int)\n",
    "db['Sex'].unique()"
   ]
  },
  {
   "cell_type": "code",
   "execution_count": 50,
   "metadata": {},
   "outputs": [
    {
     "data": {
      "text/html": [
       "<div>\n",
       "<style scoped>\n",
       "    .dataframe tbody tr th:only-of-type {\n",
       "        vertical-align: middle;\n",
       "    }\n",
       "\n",
       "    .dataframe tbody tr th {\n",
       "        vertical-align: top;\n",
       "    }\n",
       "\n",
       "    .dataframe thead th {\n",
       "        text-align: right;\n",
       "    }\n",
       "</style>\n",
       "<table border=\"1\" class=\"dataframe\">\n",
       "  <thead>\n",
       "    <tr style=\"text-align: right;\">\n",
       "      <th></th>\n",
       "      <th>Pclass</th>\n",
       "      <th>Fare</th>\n",
       "      <th>Sex</th>\n",
       "    </tr>\n",
       "  </thead>\n",
       "  <tbody>\n",
       "    <tr>\n",
       "      <th>140</th>\n",
       "      <td>2</td>\n",
       "      <td>26.250</td>\n",
       "      <td>1</td>\n",
       "    </tr>\n",
       "    <tr>\n",
       "      <th>439</th>\n",
       "      <td>3</td>\n",
       "      <td>7.750</td>\n",
       "      <td>1</td>\n",
       "    </tr>\n",
       "    <tr>\n",
       "      <th>817</th>\n",
       "      <td>2</td>\n",
       "      <td>26.000</td>\n",
       "      <td>1</td>\n",
       "    </tr>\n",
       "    <tr>\n",
       "      <th>378</th>\n",
       "      <td>3</td>\n",
       "      <td>15.500</td>\n",
       "      <td>1</td>\n",
       "    </tr>\n",
       "    <tr>\n",
       "      <th>491</th>\n",
       "      <td>3</td>\n",
       "      <td>69.550</td>\n",
       "      <td>1</td>\n",
       "    </tr>\n",
       "    <tr>\n",
       "      <th>...</th>\n",
       "      <td>...</td>\n",
       "      <td>...</td>\n",
       "      <td>...</td>\n",
       "    </tr>\n",
       "    <tr>\n",
       "      <th>835</th>\n",
       "      <td>2</td>\n",
       "      <td>13.000</td>\n",
       "      <td>1</td>\n",
       "    </tr>\n",
       "    <tr>\n",
       "      <th>192</th>\n",
       "      <td>2</td>\n",
       "      <td>26.000</td>\n",
       "      <td>1</td>\n",
       "    </tr>\n",
       "    <tr>\n",
       "      <th>629</th>\n",
       "      <td>3</td>\n",
       "      <td>17.400</td>\n",
       "      <td>1</td>\n",
       "    </tr>\n",
       "    <tr>\n",
       "      <th>559</th>\n",
       "      <td>3</td>\n",
       "      <td>7.775</td>\n",
       "      <td>0</td>\n",
       "    </tr>\n",
       "    <tr>\n",
       "      <th>684</th>\n",
       "      <td>3</td>\n",
       "      <td>7.225</td>\n",
       "      <td>0</td>\n",
       "    </tr>\n",
       "  </tbody>\n",
       "</table>\n",
       "<p>712 rows × 3 columns</p>\n",
       "</div>"
      ],
      "text/plain": [
       "     Pclass    Fare  Sex\n",
       "140       2  26.250    1\n",
       "439       3   7.750    1\n",
       "817       2  26.000    1\n",
       "378       3  15.500    1\n",
       "491       3  69.550    1\n",
       "..      ...     ...  ...\n",
       "835       2  13.000    1\n",
       "192       2  26.000    1\n",
       "629       3  17.400    1\n",
       "559       3   7.775    0\n",
       "684       3   7.225    0\n",
       "\n",
       "[712 rows x 3 columns]"
      ]
     },
     "execution_count": 50,
     "metadata": {},
     "output_type": "execute_result"
    }
   ],
   "source": [
    "X = db[['Pclass','Fare','Sex']]\n",
    "y = db['Survived']\n",
    "# Splitting the dataset into the Training set and Test set\n",
    "from sklearn.model_selection import train_test_split\n",
    "X_train, X_test, y_train, y_test = train_test_split(X, y, test_size = 0.2, random_state = 0)\n",
    "\n",
    "X_train\n"
   ]
  },
  {
   "cell_type": "code",
   "execution_count": 53,
   "metadata": {},
   "outputs": [
    {
     "name": "stdout",
     "output_type": "stream",
     "text": [
      "(712, 3) (712,) (179, 3)\n"
     ]
    }
   ],
   "source": [
    "\n",
    "print(X_train.shape, y_train.shape, X_test.shape)"
   ]
  },
  {
   "cell_type": "code",
   "execution_count": 56,
   "metadata": {},
   "outputs": [
    {
     "data": {
      "text/plain": [
       "36.38"
      ]
     },
     "execution_count": 56,
     "metadata": {},
     "output_type": "execute_result"
    }
   ],
   "source": [
    "# Fitting Multiple Linear Regression to the Training set\n",
    "from sklearn.linear_model import LinearRegression\n",
    "regressor = LinearRegression()\n",
    "regressor.fit(X_train, y_train)\n",
    "y_pred = regressor.predict(X_test)\n",
    "\n",
    "acc_log = round(regressor.score(X_train, y_train) * 100, 2)\n",
    "acc_log"
   ]
  },
  {
   "cell_type": "code",
   "execution_count": 55,
   "metadata": {},
   "outputs": [
    {
     "data": {
      "text/plain": [
       "77.81"
      ]
     },
     "execution_count": 55,
     "metadata": {},
     "output_type": "execute_result"
    }
   ],
   "source": [
    "from sklearn.linear_model import LogisticRegression\n",
    "logreg = LogisticRegression()\n",
    "logreg.fit(X_train, y_train)\n",
    "y_pred = logreg.predict(X_test)\n",
    "\n",
    "acc_log = round(logreg.score(X_train, y_train) * 100, 2)\n",
    "acc_log"
   ]
  },
  {
   "cell_type": "code",
   "execution_count": 65,
   "metadata": {},
   "outputs": [
    {
     "data": {
      "text/plain": [
       "67.13"
      ]
     },
     "execution_count": 65,
     "metadata": {},
     "output_type": "execute_result"
    }
   ],
   "source": [
    "# Support Vector Machines\n",
    "from sklearn.svm import SVC, LinearSVC\n",
    "svc = SVC()\n",
    "svc.fit(X_train, y_train)\n",
    "Y_pred = svc.predict(X_test)\n",
    "acc_svc = round(svc.score(X_train, y_train) * 100, 2)\n",
    "acc_svc"
   ]
  },
  {
   "cell_type": "code",
   "execution_count": 66,
   "metadata": {},
   "outputs": [
    {
     "data": {
      "text/plain": [
       "69.38"
      ]
     },
     "execution_count": 66,
     "metadata": {},
     "output_type": "execute_result"
    }
   ],
   "source": [
    "# KNeighborsClassifier\n",
    "from sklearn.neighbors import KNeighborsClassifier\n",
    "values = {}\n",
    "for val in range(1, 51):\n",
    "    knn = KNeighborsClassifier(n_neighbors = val)\n",
    "    knn.fit(X_train, y_train)\n",
    "    Y_pred = knn.predict(X_test)\n",
    "    acc = round(knn.score(X_train, y_train) * 100, 2)\n",
    "    values[val] = acc\n",
    "\n",
    "acc"
   ]
  },
  {
   "cell_type": "code",
   "execution_count": 67,
   "metadata": {},
   "outputs": [
    {
     "data": {
      "text/plain": [
       "76.83"
      ]
     },
     "execution_count": 67,
     "metadata": {},
     "output_type": "execute_result"
    }
   ],
   "source": [
    "from sklearn.naive_bayes import GaussianNB\n",
    "gaussian = GaussianNB()\n",
    "gaussian.fit(X_train, y_train)\n",
    "Y_pred = gaussian.predict(X_test)\n",
    "acc_gaussian = round(gaussian.score(X_train, y_train) * 100, 2)\n",
    "acc_gaussian"
   ]
  },
  {
   "cell_type": "code",
   "execution_count": 70,
   "metadata": {},
   "outputs": [
    {
     "data": {
      "text/plain": [
       "77.67"
      ]
     },
     "execution_count": 70,
     "metadata": {},
     "output_type": "execute_result"
    }
   ],
   "source": [
    "# Linear SVC\n",
    "from sklearn.metrics import accuracy_score, mean_squared_error\n",
    "linear_svc = LinearSVC()\n",
    "linear_svc.fit(X_train, y_train)\n",
    "Y_pred = linear_svc.predict(X_test)\n",
    "acc_linear_svc = round(linear_svc.score(X_train, y_train) * 100, 2)\n",
    "acc_linear_svc"
   ]
  },
  {
   "cell_type": "code",
   "execution_count": 77,
   "metadata": {},
   "outputs": [
    {
     "name": "stdout",
     "output_type": "stream",
     "text": [
      "MSE: 0.14062798834108786\n",
      "MAE: 0.2852379621707908\n",
      "RMSE: 0.3750039844336162\n",
      "r2_score: -0.6799577459788468\n"
     ]
    }
   ],
   "source": [
    "\n",
    "#Validation\n",
    "import numpy as np\n",
    "\n",
    "from sklearn import metrics\n",
    "print(\"MSE:\",metrics.mean_squared_error(y_pred,y_test))\n",
    "print(\"MAE:\",metrics.mean_absolute_error(y_pred,y_test))\n",
    "print(\"RMSE:\",np.sqrt(metrics.mean_squared_error(y_pred,y_test)))\n",
    "print(\"r2_score:\",metrics.r2_score(y_pred,y_test))"
   ]
  },
  {
   "cell_type": "code",
   "execution_count": 82,
   "metadata": {},
   "outputs": [
    {
     "data": {
      "text/plain": [
       "0.8266879688802444"
      ]
     },
     "execution_count": 82,
     "metadata": {},
     "output_type": "execute_result"
    }
   ],
   "source": [
    "from sklearn.metrics import roc_auc_score\n",
    "pred_prob1 = logreg.predict_proba(X_test)\n",
    "\n",
    "# auc scores\n",
    "auc_score1 = roc_auc_score(y_test, pred_prob1[:,1])\n",
    "auc_score1"
   ]
  },
  {
   "cell_type": "code",
   "execution_count": 83,
   "metadata": {},
   "outputs": [
    {
     "data": {
      "text/plain": [
       "(array([0.        , 0.        , 0.        , 0.        , 0.        ,\n",
       "        0.00847458, 0.00847458, 0.00847458, 0.00847458, 0.00847458,\n",
       "        0.04237288, 0.04237288, 0.05084746, 0.06779661, 0.07627119,\n",
       "        0.07627119, 0.08474576, 0.08474576, 0.09322034, 0.09322034,\n",
       "        0.09322034, 0.09322034, 0.11016949, 0.11016949, 0.11864407,\n",
       "        0.11864407, 0.13559322, 0.1779661 , 0.1779661 , 0.19491525,\n",
       "        0.21186441, 0.22881356, 0.24576271, 0.26271186, 0.26271186,\n",
       "        0.27118644, 0.31355932, 0.34745763, 0.36440678, 0.38983051,\n",
       "        0.39830508, 0.40677966, 0.43220339, 0.48305085, 0.49152542,\n",
       "        0.49152542, 0.5       , 0.52542373, 0.52542373, 0.53389831,\n",
       "        0.55932203, 0.56779661, 0.58474576, 0.59322034, 0.61016949,\n",
       "        0.62711864, 0.6440678 , 0.6440678 , 0.66101695, 0.72881356,\n",
       "        0.79661017, 0.80508475, 0.80508475, 0.83050847, 0.8559322 ,\n",
       "        0.86440678, 0.88135593, 0.88983051, 0.91525424, 0.98305085,\n",
       "        0.98305085, 1.        ]),\n",
       " array([0.        , 0.01639344, 0.04918033, 0.08196721, 0.29508197,\n",
       "        0.29508197, 0.36065574, 0.37704918, 0.44262295, 0.45901639,\n",
       "        0.45901639, 0.49180328, 0.49180328, 0.49180328, 0.49180328,\n",
       "        0.52459016, 0.52459016, 0.54098361, 0.54098361, 0.62295082,\n",
       "        0.6557377 , 0.68852459, 0.68852459, 0.70491803, 0.70491803,\n",
       "        0.72131148, 0.72131148, 0.72131148, 0.7704918 , 0.7704918 ,\n",
       "        0.78688525, 0.78688525, 0.78688525, 0.78688525, 0.80327869,\n",
       "        0.80327869, 0.80327869, 0.80327869, 0.80327869, 0.80327869,\n",
       "        0.80327869, 0.81967213, 0.81967213, 0.81967213, 0.81967213,\n",
       "        0.85245902, 0.85245902, 0.85245902, 0.86885246, 0.86885246,\n",
       "        0.86885246, 0.86885246, 0.86885246, 0.86885246, 0.86885246,\n",
       "        0.86885246, 0.8852459 , 0.90163934, 0.90163934, 0.91803279,\n",
       "        0.91803279, 0.93442623, 0.96721311, 0.98360656, 0.98360656,\n",
       "        0.98360656, 0.98360656, 0.98360656, 0.98360656, 0.98360656,\n",
       "        1.        , 1.        ]),\n",
       " array([1.92141084, 0.92141084, 0.91394123, 0.91121545, 0.90650029,\n",
       "        0.90491549, 0.78170431, 0.78139948, 0.77979411, 0.57707175,\n",
       "        0.57415224, 0.57368289, 0.57337901, 0.57337811, 0.57336628,\n",
       "        0.57267643, 0.57236964, 0.57231501, 0.57229043, 0.57193622,\n",
       "        0.57191344, 0.55560526, 0.5001905 , 0.47135335, 0.46682343,\n",
       "        0.45984962, 0.45883624, 0.44859462, 0.44830756, 0.4478706 ,\n",
       "        0.44761216, 0.44739971, 0.44175927, 0.23625175, 0.23621081,\n",
       "        0.23475964, 0.23448378, 0.23272568, 0.23248665, 0.23240701,\n",
       "        0.23216821, 0.23200911, 0.2303431 , 0.10407696, 0.10377282,\n",
       "        0.10336325, 0.1033405 , 0.10299771, 0.10298121, 0.10297709,\n",
       "        0.10294823, 0.10286582, 0.10286204, 0.10283355, 0.10245462,\n",
       "        0.10241358, 0.10238589, 0.10237393, 0.10236128, 0.10233565,\n",
       "        0.102323  , 0.10231959, 0.1023148 , 0.1023131 , 0.10231105,\n",
       "        0.102309  , 0.10230285, 0.10229021, 0.10227006, 0.10225367,\n",
       "        0.10224752, 0.10200501]))"
      ]
     },
     "execution_count": 83,
     "metadata": {},
     "output_type": "execute_result"
    }
   ],
   "source": [
    "from sklearn.metrics import roc_curve\n",
    "pred_prob2 = logreg.predict_proba(X_test)\n",
    "\n",
    "# auc scores\n",
    "Roc_score = roc_curve(y_test, pred_prob1[:,1])\n",
    "Roc_score"
   ]
  },
  {
   "cell_type": "code",
   "execution_count": null,
   "metadata": {},
   "outputs": [],
   "source": []
  }
 ],
 "metadata": {
  "kernelspec": {
   "display_name": "Python 3",
   "language": "python",
   "name": "python3"
  },
  "language_info": {
   "codemirror_mode": {
    "name": "ipython",
    "version": 3
   },
   "file_extension": ".py",
   "mimetype": "text/x-python",
   "name": "python",
   "nbconvert_exporter": "python",
   "pygments_lexer": "ipython3",
   "version": "3.8.5"
  }
 },
 "nbformat": 4,
 "nbformat_minor": 4
}
